{
  "nbformat": 4,
  "nbformat_minor": 0,
  "metadata": {
    "colab": {
      "name": "chapter12_linear_regression_prediction.ipynb",
      "provenance": [],
      "collapsed_sections": [],
      "authorship_tag": "ABX9TyMRPXISPA8qkebxSKVV8acz",
      "include_colab_link": true
    },
    "kernelspec": {
      "name": "python3",
      "display_name": "Python 3"
    },
    "language_info": {
      "name": "python"
    }
  },
  "cells": [
    {
      "cell_type": "markdown",
      "metadata": {
        "id": "view-in-github",
        "colab_type": "text"
      },
      "source": [
        "<a href=\"https://colab.research.google.com/github/neorocke/keras/blob/master/chapter12_linear_regression_prediction.ipynb\" target=\"_parent\"><img src=\"https://colab.research.google.com/assets/colab-badge.svg\" alt=\"Open In Colab\"/></a>"
      ]
    },
    {
      "cell_type": "markdown",
      "source": [
        "# 깊은 다층 퍼셉트론 신경망 모델\n"
      ],
      "metadata": {
        "id": "V7OCDiqgpOk9"
      }
    },
    {
      "cell_type": "code",
      "source": [
        "# 0. 사용할 패키지 불러오기\n",
        "import numpy as np\n",
        "from keras.models import Sequential\n",
        "from keras.layers import Dense\n",
        "import random"
      ],
      "metadata": {
        "id": "wip8N16JpOk9"
      },
      "execution_count": 116,
      "outputs": []
    },
    {
      "cell_type": "code",
      "source": [
        "# 1. 데이터셋 생성하기\n",
        "x_train = np.random.random((10000, 1))\n",
        "y_train = x_train * 2 + np.random.random((10000, 1)) / 3.0\n",
        "x_test = np.random.random((100, 1))\n",
        "y_test = x_test * 2 + np.random.random((100, 1)) / 3.0"
      ],
      "metadata": {
        "id": "e_RMrHbVpOk9"
      },
      "execution_count": 117,
      "outputs": []
    },
    {
      "cell_type": "code",
      "source": [
        "# 2. 모델 구성하기\n",
        "model = Sequential()\n",
        "model.add(Dense(64, input_dim=1, activation = 'relu'))\n",
        "model.add(Dense(64, activation = 'relu'))\n",
        "model.add(Dense(1))"
      ],
      "metadata": {
        "id": "nFVf6YX4pOk-"
      },
      "execution_count": 118,
      "outputs": []
    },
    {
      "cell_type": "code",
      "source": [
        "model.compile(optimizer = 'rmsprop', loss='mse')"
      ],
      "metadata": {
        "id": "loTKJo-QpOk-"
      },
      "execution_count": 119,
      "outputs": []
    },
    {
      "cell_type": "code",
      "source": [
        "model.summary()"
      ],
      "metadata": {
        "colab": {
          "base_uri": "https://localhost:8080/"
        },
        "outputId": "2cec7e83-400f-4dbc-f977-6ed7205f60d2",
        "id": "5dSo9O76pOk-"
      },
      "execution_count": 120,
      "outputs": [
        {
          "output_type": "stream",
          "name": "stdout",
          "text": [
            "Model: \"sequential_6\"\n",
            "_________________________________________________________________\n",
            " Layer (type)                Output Shape              Param #   \n",
            "=================================================================\n",
            " dense_7 (Dense)             (None, 64)                128       \n",
            "                                                                 \n",
            " dense_8 (Dense)             (None, 64)                4160      \n",
            "                                                                 \n",
            " dense_9 (Dense)             (None, 1)                 65        \n",
            "                                                                 \n",
            "=================================================================\n",
            "Total params: 4,353\n",
            "Trainable params: 4,353\n",
            "Non-trainable params: 0\n",
            "_________________________________________________________________\n"
          ]
        }
      ]
    },
    {
      "cell_type": "code",
      "source": [
        "hist = model.fit(x_train, y_train, epochs=50, batch_size = 64)"
      ],
      "metadata": {
        "colab": {
          "base_uri": "https://localhost:8080/"
        },
        "outputId": "ae744c5b-1728-48ae-aacc-b38a0c9924ba",
        "id": "ZAVOl-48pOk-"
      },
      "execution_count": 121,
      "outputs": [
        {
          "output_type": "stream",
          "name": "stdout",
          "text": [
            "Epoch 1/50\n",
            "157/157 [==============================] - 1s 2ms/step - loss: 0.1524\n",
            "Epoch 2/50\n",
            "157/157 [==============================] - 0s 1ms/step - loss: 0.0099\n",
            "Epoch 3/50\n",
            "157/157 [==============================] - 0s 2ms/step - loss: 0.0098\n",
            "Epoch 4/50\n",
            "157/157 [==============================] - 0s 2ms/step - loss: 0.0099\n",
            "Epoch 5/50\n",
            "157/157 [==============================] - 0s 1ms/step - loss: 0.0098\n",
            "Epoch 6/50\n",
            "157/157 [==============================] - 0s 1ms/step - loss: 0.0098\n",
            "Epoch 7/50\n",
            "157/157 [==============================] - 0s 1ms/step - loss: 0.0098\n",
            "Epoch 8/50\n",
            "157/157 [==============================] - 0s 1ms/step - loss: 0.0098\n",
            "Epoch 9/50\n",
            "157/157 [==============================] - 0s 1ms/step - loss: 0.0099\n",
            "Epoch 10/50\n",
            "157/157 [==============================] - 0s 1ms/step - loss: 0.0098\n",
            "Epoch 11/50\n",
            "157/157 [==============================] - 0s 1ms/step - loss: 0.0098\n",
            "Epoch 12/50\n",
            "157/157 [==============================] - 0s 2ms/step - loss: 0.0099\n",
            "Epoch 13/50\n",
            "157/157 [==============================] - 0s 1ms/step - loss: 0.0098\n",
            "Epoch 14/50\n",
            "157/157 [==============================] - 0s 1ms/step - loss: 0.0097\n",
            "Epoch 15/50\n",
            "157/157 [==============================] - 0s 1ms/step - loss: 0.0098\n",
            "Epoch 16/50\n",
            "157/157 [==============================] - 0s 1ms/step - loss: 0.0098\n",
            "Epoch 17/50\n",
            "157/157 [==============================] - 0s 1ms/step - loss: 0.0097\n",
            "Epoch 18/50\n",
            "157/157 [==============================] - 0s 1ms/step - loss: 0.0098\n",
            "Epoch 19/50\n",
            "157/157 [==============================] - 0s 1ms/step - loss: 0.0098\n",
            "Epoch 20/50\n",
            "157/157 [==============================] - 0s 1ms/step - loss: 0.0097\n",
            "Epoch 21/50\n",
            "157/157 [==============================] - 0s 1ms/step - loss: 0.0097\n",
            "Epoch 22/50\n",
            "157/157 [==============================] - 0s 2ms/step - loss: 0.0097\n",
            "Epoch 23/50\n",
            "157/157 [==============================] - 0s 2ms/step - loss: 0.0098\n",
            "Epoch 24/50\n",
            "157/157 [==============================] - 0s 1ms/step - loss: 0.0098\n",
            "Epoch 25/50\n",
            "157/157 [==============================] - 0s 1ms/step - loss: 0.0097\n",
            "Epoch 26/50\n",
            "157/157 [==============================] - 0s 1ms/step - loss: 0.0097\n",
            "Epoch 27/50\n",
            "157/157 [==============================] - 0s 1ms/step - loss: 0.0097\n",
            "Epoch 28/50\n",
            "157/157 [==============================] - 0s 1ms/step - loss: 0.0097\n",
            "Epoch 29/50\n",
            "157/157 [==============================] - 0s 1ms/step - loss: 0.0097\n",
            "Epoch 30/50\n",
            "157/157 [==============================] - 0s 1ms/step - loss: 0.0097\n",
            "Epoch 31/50\n",
            "157/157 [==============================] - 0s 1ms/step - loss: 0.0097\n",
            "Epoch 32/50\n",
            "157/157 [==============================] - 0s 1ms/step - loss: 0.0096\n",
            "Epoch 33/50\n",
            "157/157 [==============================] - 0s 1ms/step - loss: 0.0097\n",
            "Epoch 34/50\n",
            "157/157 [==============================] - 0s 1ms/step - loss: 0.0097\n",
            "Epoch 35/50\n",
            "157/157 [==============================] - 0s 1ms/step - loss: 0.0097\n",
            "Epoch 36/50\n",
            "157/157 [==============================] - 0s 1ms/step - loss: 0.0097\n",
            "Epoch 37/50\n",
            "157/157 [==============================] - 0s 1ms/step - loss: 0.0097\n",
            "Epoch 38/50\n",
            "157/157 [==============================] - 0s 1ms/step - loss: 0.0097\n",
            "Epoch 39/50\n",
            "157/157 [==============================] - 0s 2ms/step - loss: 0.0097\n",
            "Epoch 40/50\n",
            "157/157 [==============================] - 0s 2ms/step - loss: 0.0097\n",
            "Epoch 41/50\n",
            "157/157 [==============================] - 0s 1ms/step - loss: 0.0097\n",
            "Epoch 42/50\n",
            "157/157 [==============================] - 0s 2ms/step - loss: 0.0096\n",
            "Epoch 43/50\n",
            "157/157 [==============================] - 0s 2ms/step - loss: 0.0097\n",
            "Epoch 44/50\n",
            "157/157 [==============================] - 0s 2ms/step - loss: 0.0097\n",
            "Epoch 45/50\n",
            "157/157 [==============================] - 0s 2ms/step - loss: 0.0096\n",
            "Epoch 46/50\n",
            "157/157 [==============================] - 0s 2ms/step - loss: 0.0097\n",
            "Epoch 47/50\n",
            "157/157 [==============================] - 0s 1ms/step - loss: 0.0096\n",
            "Epoch 48/50\n",
            "157/157 [==============================] - 0s 1ms/step - loss: 0.0097\n",
            "Epoch 49/50\n",
            "157/157 [==============================] - 0s 1ms/step - loss: 0.0097\n",
            "Epoch 50/50\n",
            "157/157 [==============================] - 0s 2ms/step - loss: 0.0096\n"
          ]
        }
      ]
    },
    {
      "cell_type": "code",
      "source": [
        "# 5. 학습과정 살펴보기\n",
        "%matplotlib inline\n",
        "import matplotlib.pyplot as plt\n",
        "\n",
        "plt.plot(hist.history['loss'])\n",
        "plt.ylim(0.0, 1.5)\n",
        "plt.ylabel('loss')\n",
        "plt.xlabel('epoch')\n",
        "plt.legend(['train'], loc='upper left')\n",
        "plt.show()"
      ],
      "metadata": {
        "colab": {
          "base_uri": "https://localhost:8080/",
          "height": 279
        },
        "outputId": "3f1ba364-1473-44e2-cdd1-5a4aa4cd5d7e",
        "id": "NCTn_OtTpOk-"
      },
      "execution_count": null,
      "outputs": [
        {
          "output_type": "display_data",
          "data": {
            "text/plain": [
              "<Figure size 432x288 with 1 Axes>"
            ],
            "image/png": "[encoded data removed]"
          },
          "metadata": {
            "needs_background": "light"
          }
        }
      ]
    },
    {
      "cell_type": "code",
      "source": [
        "loss = model.evaluate(x_test, y_test, batch_size = 32)"
      ],
      "metadata": {
        "colab": {
          "base_uri": "https://localhost:8080/"
        },
        "outputId": "e7c746ec-dc67-45d4-bd00-de298e9e3703",
        "id": "zKTzqqtJpOk-"
      },
      "execution_count": null,
      "outputs": [
        {
          "output_type": "stream",
          "name": "stdout",
          "text": [
            "4/4 [==============================] - 0s 5ms/step - loss: 0.0087\n"
          ]
        }
      ]
    },
    {
      "cell_type": "code",
      "source": [
        "loss"
      ],
      "metadata": {
        "colab": {
          "base_uri": "https://localhost:8080/"
        },
        "outputId": "b200dc46-6aa5-4f98-b3dc-c7bcc21415c8",
        "id": "p0NZVau7pOk-"
      },
      "execution_count": null,
      "outputs": [
        {
          "output_type": "execute_result",
          "data": {
            "text/plain": [
              "0.008661624975502491"
            ]
          },
          "metadata": {},
          "execution_count": 115
        }
      ]
    },
    {
      "cell_type": "code",
      "execution_count": 10,
      "metadata": {
        "id": "hoDCg7-BUrvN"
      },
      "outputs": [],
      "source": [
        "import numpy as np\n",
        "\n",
        "# 데이터셋 생성\n",
        "# 훈련셋\n",
        "x_train = np.random.random((1000, 1))\n",
        "y_train = x_train * 2 + np.random.random((1000, 1)) / 3.0\n",
        "\n",
        "# 시험셋\n",
        "x_test = np.random.random((100, 1))\n",
        "y_test = x_test * 2 + np.random.random((100, 1)) / 3.0"
      ]
    },
    {
      "cell_type": "code",
      "source": [
        "np.random.random((10,2))"
      ],
      "metadata": {
        "colab": {
          "base_uri": "https://localhost:8080/"
        },
        "id": "mLfKtAKVWLbt",
        "outputId": "e69e0bbc-cb33-4513-b2bc-0b4eb5b75454"
      },
      "execution_count": 11,
      "outputs": [
        {
          "output_type": "execute_result",
          "data": {
            "text/plain": [
              "array([[0.70687865, 0.25856772],\n",
              "       [0.47707034, 0.10496521],\n",
              "       [0.07219349, 0.88263646],\n",
              "       [0.37205623, 0.90637857],\n",
              "       [0.47227041, 0.87016713],\n",
              "       [0.21558224, 0.17978059],\n",
              "       [0.55512578, 0.32571321],\n",
              "       [0.6999544 , 0.16492445],\n",
              "       [0.74642937, 0.70384093],\n",
              "       [0.94122088, 0.47834009]])"
            ]
          },
          "metadata": {},
          "execution_count": 11
        }
      ]
    },
    {
      "cell_type": "code",
      "source": [
        "x_train.shape"
      ],
      "metadata": {
        "colab": {
          "base_uri": "https://localhost:8080/"
        },
        "id": "73maeX2XYGFj",
        "outputId": "6c8eba90-1ef5-45cf-b6c0-9ccdc8888c32"
      },
      "execution_count": 13,
      "outputs": [
        {
          "output_type": "execute_result",
          "data": {
            "text/plain": [
              "(1000, 1)"
            ]
          },
          "metadata": {},
          "execution_count": 13
        }
      ]
    },
    {
      "cell_type": "code",
      "source": [
        "x_train[:10]"
      ],
      "metadata": {
        "colab": {
          "base_uri": "https://localhost:8080/"
        },
        "id": "bcBLDtWJYLmS",
        "outputId": "7ae00179-ffbb-4fca-eab4-2287b571a5b9"
      },
      "execution_count": 14,
      "outputs": [
        {
          "output_type": "execute_result",
          "data": {
            "text/plain": [
              "array([[0.81936288],\n",
              "       [0.14339601],\n",
              "       [0.73390014],\n",
              "       [0.96958325],\n",
              "       [0.74779821],\n",
              "       [0.14180761],\n",
              "       [0.96370717],\n",
              "       [0.87202652],\n",
              "       [0.39219902],\n",
              "       [0.76886323]])"
            ]
          },
          "metadata": {},
          "execution_count": 14
        }
      ]
    },
    {
      "cell_type": "code",
      "source": [
        "%matplotlib inline\n",
        "import matplotlib.pyplot as plt\n",
        "\n",
        "plt.plot(x_train, y_train,'ro')\n",
        "plt.plot(x_test, y_test,'bo')\n",
        "plt.legend(['train','test'], loc = 'upper left')\n",
        "plt.show()"
      ],
      "metadata": {
        "colab": {
          "base_uri": "https://localhost:8080/",
          "height": 265
        },
        "id": "wHcUoLdNYRh1",
        "outputId": "362a14c5-f9b7-462a-d01a-fa069b8f5c9e"
      },
      "execution_count": 21,
      "outputs": [
        {
          "output_type": "display_data",
          "data": {
            "text/plain": [
              "<Figure size 432x288 with 1 Axes>"
            ],
            "image/png": "[encoded data removed]"
          },
          "metadata": {
            "needs_background": "light"
          }
        }
      ]
    },
    {
      "cell_type": "code",
      "source": [
        "# 0. 사용할 패키지 불러오기\n",
        "import numpy as np\n",
        "from sklearn.metrics import mean_squared_error\n",
        "import random\n",
        "\n",
        "# 1. 데이터셋 생성하기\n",
        "x_train = np.random.random((1000, 1))\n",
        "y_train = x_train * 2 + np.random.random((1000, 1)) / 3.0\n",
        "x_test = np.random.random((100, 1))\n",
        "y_test = x_test * 2 + np.random.random((100, 1)) / 3.0"
      ],
      "metadata": {
        "id": "ZRHs9DFBYy0Z"
      },
      "execution_count": 36,
      "outputs": []
    },
    {
      "cell_type": "code",
      "source": [
        "x_train = x_train.reshape(1000,)\n",
        "y_train = y_train.reshape(1000,)\n",
        "x_test = x_test.reshape(100,)\n",
        "y_test = y_test.reshape(100,)"
      ],
      "metadata": {
        "id": "PAaPF86ScEtg"
      },
      "execution_count": 37,
      "outputs": []
    },
    {
      "cell_type": "code",
      "source": [
        "x_train.shape"
      ],
      "metadata": {
        "colab": {
          "base_uri": "https://localhost:8080/"
        },
        "id": "70nOgf6VcQ1n",
        "outputId": "871d6c79-5ffa-4371-a411-972af63adc33"
      },
      "execution_count": 38,
      "outputs": [
        {
          "output_type": "execute_result",
          "data": {
            "text/plain": [
              "(1000,)"
            ]
          },
          "metadata": {},
          "execution_count": 38
        }
      ]
    },
    {
      "cell_type": "markdown",
      "source": [
        "# 선형 회귀모델"
      ],
      "metadata": {
        "id": "xHiuUQNOjF-E"
      }
    },
    {
      "cell_type": "code",
      "source": [
        "# 2. 모델 구성하기\n",
        "w = np.cov(x_train, y_train, bias=1)[0,1] / np.var(x_train)\n",
        "b = np.average(y_train) - w * np.average(x_train)\n",
        "print(w,b)"
      ],
      "metadata": {
        "colab": {
          "base_uri": "https://localhost:8080/"
        },
        "id": "oesofgKRcXlP",
        "outputId": "b2bd38ea-14f9-4ec7-d083-93774d7e9faa"
      },
      "execution_count": 52,
      "outputs": [
        {
          "output_type": "stream",
          "name": "stdout",
          "text": [
            "0.0 1.1615181216162407\n"
          ]
        }
      ]
    },
    {
      "cell_type": "code",
      "source": [
        "np.cov(x_train, y_train, bias=1)"
      ],
      "metadata": {
        "colab": {
          "base_uri": "https://localhost:8080/"
        },
        "id": "gj3XBlnWcrw3",
        "outputId": "d8c4084a-e976-403d-eeda-a54135218bd7"
      },
      "execution_count": 53,
      "outputs": [
        {
          "output_type": "execute_result",
          "data": {
            "text/plain": [
              "array([[0., 0., 0., ..., 0., 0., 0.],\n",
              "       [0., 0., 0., ..., 0., 0., 0.],\n",
              "       [0., 0., 0., ..., 0., 0., 0.],\n",
              "       ...,\n",
              "       [0., 0., 0., ..., 0., 0., 0.],\n",
              "       [0., 0., 0., ..., 0., 0., 0.],\n",
              "       [0., 0., 0., ..., 0., 0., 0.]])"
            ]
          },
          "metadata": {},
          "execution_count": 53
        }
      ]
    },
    {
      "cell_type": "code",
      "source": [
        "np.var(x_train)"
      ],
      "metadata": {
        "colab": {
          "base_uri": "https://localhost:8080/"
        },
        "id": "9TYDq9K8dSbg",
        "outputId": "ecd82aec-1d6d-466b-fe59-68c1d8bfd79e"
      },
      "execution_count": 54,
      "outputs": [
        {
          "output_type": "execute_result",
          "data": {
            "text/plain": [
              "0.08348370965004921"
            ]
          },
          "metadata": {},
          "execution_count": 54
        }
      ]
    },
    {
      "cell_type": "code",
      "source": [
        "x_test[:10]"
      ],
      "metadata": {
        "colab": {
          "base_uri": "https://localhost:8080/"
        },
        "id": "BLXYulwOd36-",
        "outputId": "aef21fa9-5dcf-4412-930b-f7f5ee59fe3b"
      },
      "execution_count": 55,
      "outputs": [
        {
          "output_type": "execute_result",
          "data": {
            "text/plain": [
              "array([[0.24966765],\n",
              "       [0.1775559 ],\n",
              "       [0.68191549],\n",
              "       [0.05645887],\n",
              "       [0.15354534],\n",
              "       [0.24359776],\n",
              "       [0.01045241],\n",
              "       [0.66158133],\n",
              "       [0.83383527],\n",
              "       [0.99117478]])"
            ]
          },
          "metadata": {},
          "execution_count": 55
        }
      ]
    },
    {
      "cell_type": "code",
      "source": [
        "# 3. 모델 평가\n",
        "y_predict = w * x_test + b\n",
        "mse = mean_squared_error(y_test, y_predict)\n",
        "print('mae:' + str(mse))"
      ],
      "metadata": {
        "colab": {
          "base_uri": "https://localhost:8080/"
        },
        "id": "FuwGmg7-d6On",
        "outputId": "e7849890-e8e1-4910-ce30-9793a38c9220"
      },
      "execution_count": 56,
      "outputs": [
        {
          "output_type": "stream",
          "name": "stdout",
          "text": [
            "mae:0.4037405779342968\n"
          ]
        }
      ]
    },
    {
      "cell_type": "code",
      "source": [
        ""
      ],
      "metadata": {
        "id": "-AGYn2ByeSy_"
      },
      "execution_count": 56,
      "outputs": []
    },
    {
      "cell_type": "markdown",
      "source": [
        "# 퍼셉트론 신경망 모델\n"
      ],
      "metadata": {
        "id": "egSKfK7jil7i"
      }
    },
    {
      "cell_type": "code",
      "source": [
        "# 0. 사용할 패키지 불러오기\n",
        "import numpy as np\n",
        "from keras.models import Sequential\n",
        "from keras.layers import Dense\n",
        "import random"
      ],
      "metadata": {
        "id": "rluNsTuEioss"
      },
      "execution_count": 57,
      "outputs": []
    },
    {
      "cell_type": "code",
      "source": [
        "# 1. 데이터셋 생성하기\n",
        "x_train = np.random.random((10000, 1))\n",
        "y_train = x_train * 2 + np.random.random((10000, 1)) / 3.0\n",
        "x_test = np.random.random((100, 1))\n",
        "y_test = x_test * 2 + np.random.random((100, 1)) / 3.0"
      ],
      "metadata": {
        "id": "fiFkBlm4i1b0"
      },
      "execution_count": 95,
      "outputs": []
    },
    {
      "cell_type": "code",
      "source": [
        "# 2. 모델 구성하기\n",
        "model = Sequential()\n",
        "model.add(Dense(1, input_dim=1))"
      ],
      "metadata": {
        "id": "BxTbcPcjjBa9"
      },
      "execution_count": 96,
      "outputs": []
    },
    {
      "cell_type": "code",
      "source": [
        "model.compile(optimizer='rmsprop', loss = 'mse')\n",
        "# model.compile(optimizer='adam', loss = 'mse')"
      ],
      "metadata": {
        "id": "5EJhMButjMrE"
      },
      "execution_count": 97,
      "outputs": []
    },
    {
      "cell_type": "code",
      "source": [
        "model.summary()"
      ],
      "metadata": {
        "colab": {
          "base_uri": "https://localhost:8080/"
        },
        "id": "FvLaK7kFjsNE",
        "outputId": "3148c5ea-7794-40a8-d5ef-742d232fa31b"
      },
      "execution_count": 98,
      "outputs": [
        {
          "output_type": "stream",
          "name": "stdout",
          "text": [
            "Model: \"sequential_2\"\n",
            "_________________________________________________________________\n",
            " Layer (type)                Output Shape              Param #   \n",
            "=================================================================\n",
            " dense_2 (Dense)             (None, 1)                 2         \n",
            "                                                                 \n",
            "=================================================================\n",
            "Total params: 2\n",
            "Trainable params: 2\n",
            "Non-trainable params: 0\n",
            "_________________________________________________________________\n"
          ]
        }
      ]
    },
    {
      "cell_type": "code",
      "source": [
        "hist = model.fit(x_train, y_train, epochs=50, batch_size = 64)"
      ],
      "metadata": {
        "colab": {
          "base_uri": "https://localhost:8080/"
        },
        "id": "Z5kEFfB7jzV8",
        "outputId": "c84e4623-3a3c-4eca-e046-5cb3c1a1c258"
      },
      "execution_count": 99,
      "outputs": [
        {
          "output_type": "stream",
          "name": "stdout",
          "text": [
            "Epoch 1/50\n",
            "157/157 [==============================] - 1s 1ms/step - loss: 1.0263\n",
            "Epoch 2/50\n",
            "157/157 [==============================] - 0s 1ms/step - loss: 0.6297\n",
            "Epoch 3/50\n",
            "157/157 [==============================] - 0s 1ms/step - loss: 0.3447\n",
            "Epoch 4/50\n",
            "157/157 [==============================] - 0s 1ms/step - loss: 0.1706\n",
            "Epoch 5/50\n",
            "157/157 [==============================] - 0s 1ms/step - loss: 0.0980\n",
            "Epoch 6/50\n",
            "157/157 [==============================] - 0s 1ms/step - loss: 0.0735\n",
            "Epoch 7/50\n",
            "157/157 [==============================] - 0s 1ms/step - loss: 0.0537\n",
            "Epoch 8/50\n",
            "157/157 [==============================] - 0s 1ms/step - loss: 0.0377\n",
            "Epoch 9/50\n",
            "157/157 [==============================] - 0s 1ms/step - loss: 0.0255\n",
            "Epoch 10/50\n",
            "157/157 [==============================] - 0s 1ms/step - loss: 0.0167\n",
            "Epoch 11/50\n",
            "157/157 [==============================] - 0s 1ms/step - loss: 0.0115\n",
            "Epoch 12/50\n",
            "157/157 [==============================] - 0s 1ms/step - loss: 0.0096\n",
            "Epoch 13/50\n",
            "157/157 [==============================] - 0s 1ms/step - loss: 0.0092\n",
            "Epoch 14/50\n",
            "157/157 [==============================] - 0s 1ms/step - loss: 0.0092\n",
            "Epoch 15/50\n",
            "157/157 [==============================] - 0s 1ms/step - loss: 0.0092\n",
            "Epoch 16/50\n",
            "157/157 [==============================] - 0s 1ms/step - loss: 0.0091\n",
            "Epoch 17/50\n",
            "157/157 [==============================] - 0s 1ms/step - loss: 0.0092\n",
            "Epoch 18/50\n",
            "157/157 [==============================] - 0s 1ms/step - loss: 0.0092\n",
            "Epoch 19/50\n",
            "157/157 [==============================] - 0s 1ms/step - loss: 0.0091\n",
            "Epoch 20/50\n",
            "157/157 [==============================] - 0s 1ms/step - loss: 0.0091\n",
            "Epoch 21/50\n",
            "157/157 [==============================] - 0s 1ms/step - loss: 0.0091\n",
            "Epoch 22/50\n",
            "157/157 [==============================] - 0s 1ms/step - loss: 0.0091\n",
            "Epoch 23/50\n",
            "157/157 [==============================] - 0s 1ms/step - loss: 0.0092\n",
            "Epoch 24/50\n",
            "157/157 [==============================] - 0s 1ms/step - loss: 0.0091\n",
            "Epoch 25/50\n",
            "157/157 [==============================] - 0s 1ms/step - loss: 0.0091\n",
            "Epoch 26/50\n",
            "157/157 [==============================] - 0s 1ms/step - loss: 0.0091\n",
            "Epoch 27/50\n",
            "157/157 [==============================] - 0s 1ms/step - loss: 0.0091\n",
            "Epoch 28/50\n",
            "157/157 [==============================] - 0s 1ms/step - loss: 0.0091\n",
            "Epoch 29/50\n",
            "157/157 [==============================] - 0s 1ms/step - loss: 0.0092\n",
            "Epoch 30/50\n",
            "157/157 [==============================] - 0s 1ms/step - loss: 0.0092\n",
            "Epoch 31/50\n",
            "157/157 [==============================] - 0s 1ms/step - loss: 0.0091\n",
            "Epoch 32/50\n",
            "157/157 [==============================] - 0s 1ms/step - loss: 0.0092\n",
            "Epoch 33/50\n",
            "157/157 [==============================] - 0s 1ms/step - loss: 0.0091\n",
            "Epoch 34/50\n",
            "157/157 [==============================] - 0s 1ms/step - loss: 0.0091\n",
            "Epoch 35/50\n",
            "157/157 [==============================] - 0s 1ms/step - loss: 0.0091\n",
            "Epoch 36/50\n",
            "157/157 [==============================] - 0s 1ms/step - loss: 0.0092\n",
            "Epoch 37/50\n",
            "157/157 [==============================] - 0s 1ms/step - loss: 0.0091\n",
            "Epoch 38/50\n",
            "157/157 [==============================] - 0s 1ms/step - loss: 0.0091\n",
            "Epoch 39/50\n",
            "157/157 [==============================] - 0s 1ms/step - loss: 0.0091\n",
            "Epoch 40/50\n",
            "157/157 [==============================] - 0s 1ms/step - loss: 0.0091\n",
            "Epoch 41/50\n",
            "157/157 [==============================] - 0s 1ms/step - loss: 0.0091\n",
            "Epoch 42/50\n",
            "157/157 [==============================] - 0s 1ms/step - loss: 0.0091\n",
            "Epoch 43/50\n",
            "157/157 [==============================] - 0s 1ms/step - loss: 0.0091\n",
            "Epoch 44/50\n",
            "157/157 [==============================] - 0s 1ms/step - loss: 0.0092\n",
            "Epoch 45/50\n",
            "157/157 [==============================] - 0s 1ms/step - loss: 0.0091\n",
            "Epoch 46/50\n",
            "157/157 [==============================] - 0s 1ms/step - loss: 0.0091\n",
            "Epoch 47/50\n",
            "157/157 [==============================] - 0s 1ms/step - loss: 0.0091\n",
            "Epoch 48/50\n",
            "157/157 [==============================] - 0s 1ms/step - loss: 0.0092\n",
            "Epoch 49/50\n",
            "157/157 [==============================] - 0s 1ms/step - loss: 0.0091\n",
            "Epoch 50/50\n",
            "157/157 [==============================] - 0s 1ms/step - loss: 0.0091\n"
          ]
        }
      ]
    },
    {
      "cell_type": "code",
      "source": [
        "w, b = model.get_weights()\n",
        "print (w,b)"
      ],
      "metadata": {
        "colab": {
          "base_uri": "https://localhost:8080/"
        },
        "id": "y0IGIC3DkjOV",
        "outputId": "84075e4a-a3b2-4cd6-cde7-6c1314b4da11"
      },
      "execution_count": 100,
      "outputs": [
        {
          "output_type": "stream",
          "name": "stdout",
          "text": [
            "[[1.9989375]] [0.16220137]\n"
          ]
        }
      ]
    },
    {
      "cell_type": "code",
      "source": [
        "# 5. 학습과정 살펴보기\n",
        "%matplotlib inline\n",
        "import matplotlib.pyplot as plt\n",
        "\n",
        "plt.plot(hist.history['loss'])\n",
        "plt.ylim(0.0, 1.5)\n",
        "plt.ylabel('loss')\n",
        "plt.xlabel('epoch')\n",
        "plt.legend(['train'], loc='upper left')\n",
        "plt.show()"
      ],
      "metadata": {
        "colab": {
          "base_uri": "https://localhost:8080/",
          "height": 279
        },
        "id": "lL4YkbAblB3D",
        "outputId": "4921f5c1-700b-4f9c-debe-0399a1f5a5e2"
      },
      "execution_count": 102,
      "outputs": [
        {
          "output_type": "display_data",
          "data": {
            "text/plain": [
              "<Figure size 432x288 with 1 Axes>"
            ],
            "image/png": "[encoded data removed]"
          },
          "metadata": {
            "needs_background": "light"
          }
        }
      ]
    },
    {
      "cell_type": "code",
      "source": [
        "loss = model.evaluate(x_test, y_test, batch_size = 32)"
      ],
      "metadata": {
        "colab": {
          "base_uri": "https://localhost:8080/"
        },
        "id": "8__5UpeilH26",
        "outputId": "38013865-b6fe-461e-d8df-718072a128ad"
      },
      "execution_count": 92,
      "outputs": [
        {
          "output_type": "stream",
          "name": "stdout",
          "text": [
            "4/4 [==============================] - 0s 2ms/step - loss: 4.0701\n"
          ]
        }
      ]
    },
    {
      "cell_type": "code",
      "source": [
        "print(loss)"
      ],
      "metadata": {
        "colab": {
          "base_uri": "https://localhost:8080/"
        },
        "id": "9X-p_405mtqq",
        "outputId": "02fd8a7c-3bd1-4ce6-9101-c73c960f8056"
      },
      "execution_count": 84,
      "outputs": [
        {
          "output_type": "stream",
          "name": "stdout",
          "text": [
            "0.009242339059710503\n"
          ]
        }
      ]
    },
    {
      "cell_type": "markdown",
      "source": [
        "# 다층 퍼셉트론 신경망"
      ],
      "metadata": {
        "id": "aRbalHNNnV5g"
      }
    },
    {
      "cell_type": "code",
      "source": [
        "# 0. 사용할 패키지 불러오기\n",
        "import numpy as np\n",
        "from keras.models import Sequential\n",
        "from keras.layers import Dense\n",
        "import random"
      ],
      "metadata": {
        "id": "Dji4yw78oUYj"
      },
      "execution_count": 122,
      "outputs": []
    },
    {
      "cell_type": "code",
      "source": [
        "# 1. 데이터셋 생성하기\n",
        "x_train = np.random.random((10000, 1))\n",
        "y_train = x_train * 2 + np.random.random((10000, 1)) / 3.0\n",
        "x_test = np.random.random((100, 1))\n",
        "y_test = x_test * 2 + np.random.random((100, 1)) / 3.0"
      ],
      "metadata": {
        "id": "NkHcxuvJoUYj"
      },
      "execution_count": 123,
      "outputs": []
    },
    {
      "cell_type": "code",
      "source": [
        "# 2. 모델 구성하기\n",
        "model = Sequential()\n",
        "model.add(Dense(64, input_dim=1, activation = 'relu'))\n",
        "model.add(Dense(1))"
      ],
      "metadata": {
        "id": "vDx25eqjoUYj"
      },
      "execution_count": 124,
      "outputs": []
    },
    {
      "cell_type": "code",
      "source": [
        "model.compile(optimizer = 'rmsprop', loss='mse')"
      ],
      "metadata": {
        "id": "JYY-Qw_foXWZ"
      },
      "execution_count": 125,
      "outputs": []
    },
    {
      "cell_type": "code",
      "source": [
        "model.summary()"
      ],
      "metadata": {
        "colab": {
          "base_uri": "https://localhost:8080/"
        },
        "id": "BflKr_From-S",
        "outputId": "8b002397-bd68-49d4-e2d5-51a2b85a25e0"
      },
      "execution_count": 126,
      "outputs": [
        {
          "output_type": "stream",
          "name": "stdout",
          "text": [
            "Model: \"sequential_7\"\n",
            "_________________________________________________________________\n",
            " Layer (type)                Output Shape              Param #   \n",
            "=================================================================\n",
            " dense_10 (Dense)            (None, 64)                128       \n",
            "                                                                 \n",
            " dense_11 (Dense)            (None, 1)                 65        \n",
            "                                                                 \n",
            "=================================================================\n",
            "Total params: 193\n",
            "Trainable params: 193\n",
            "Non-trainable params: 0\n",
            "_________________________________________________________________\n"
          ]
        }
      ]
    },
    {
      "cell_type": "code",
      "source": [
        "hist = model.fit(x_train, y_train, epochs=50, batch_size = 64)"
      ],
      "metadata": {
        "colab": {
          "base_uri": "https://localhost:8080/"
        },
        "id": "oJLMdGIjoosQ",
        "outputId": "07ab7ce2-0d06-428b-e734-03b04f96e0da"
      },
      "execution_count": 112,
      "outputs": [
        {
          "output_type": "stream",
          "name": "stdout",
          "text": [
            "Epoch 1/50\n",
            "157/157 [==============================] - 1s 2ms/step - loss: 0.5649\n",
            "Epoch 2/50\n",
            "157/157 [==============================] - 0s 1ms/step - loss: 0.0278\n",
            "Epoch 3/50\n",
            "157/157 [==============================] - 0s 1ms/step - loss: 0.0093\n",
            "Epoch 4/50\n",
            "157/157 [==============================] - 0s 1ms/step - loss: 0.0093\n",
            "Epoch 5/50\n",
            "157/157 [==============================] - 0s 1ms/step - loss: 0.0093\n",
            "Epoch 6/50\n",
            "157/157 [==============================] - 0s 1ms/step - loss: 0.0093\n",
            "Epoch 7/50\n",
            "157/157 [==============================] - 0s 1ms/step - loss: 0.0093\n",
            "Epoch 8/50\n",
            "157/157 [==============================] - 0s 1ms/step - loss: 0.0093\n",
            "Epoch 9/50\n",
            "157/157 [==============================] - 0s 1ms/step - loss: 0.0093\n",
            "Epoch 10/50\n",
            "157/157 [==============================] - 0s 1ms/step - loss: 0.0093\n",
            "Epoch 11/50\n",
            "157/157 [==============================] - 0s 1ms/step - loss: 0.0093\n",
            "Epoch 12/50\n",
            "157/157 [==============================] - 0s 1ms/step - loss: 0.0093\n",
            "Epoch 13/50\n",
            "157/157 [==============================] - 0s 1ms/step - loss: 0.0093\n",
            "Epoch 14/50\n",
            "157/157 [==============================] - 0s 1ms/step - loss: 0.0093\n",
            "Epoch 15/50\n",
            "157/157 [==============================] - 0s 1ms/step - loss: 0.0093\n",
            "Epoch 16/50\n",
            "157/157 [==============================] - 0s 1ms/step - loss: 0.0093\n",
            "Epoch 17/50\n",
            "157/157 [==============================] - 0s 1ms/step - loss: 0.0093\n",
            "Epoch 18/50\n",
            "157/157 [==============================] - 0s 1ms/step - loss: 0.0093\n",
            "Epoch 19/50\n",
            "157/157 [==============================] - 0s 1ms/step - loss: 0.0093\n",
            "Epoch 20/50\n",
            "157/157 [==============================] - 0s 1ms/step - loss: 0.0093\n",
            "Epoch 21/50\n",
            "157/157 [==============================] - 0s 1ms/step - loss: 0.0093\n",
            "Epoch 22/50\n",
            "157/157 [==============================] - 0s 1ms/step - loss: 0.0093\n",
            "Epoch 23/50\n",
            "157/157 [==============================] - 0s 1ms/step - loss: 0.0093\n",
            "Epoch 24/50\n",
            "157/157 [==============================] - 0s 1ms/step - loss: 0.0093\n",
            "Epoch 25/50\n",
            "157/157 [==============================] - 0s 1ms/step - loss: 0.0093\n",
            "Epoch 26/50\n",
            "157/157 [==============================] - 0s 1ms/step - loss: 0.0093\n",
            "Epoch 27/50\n",
            "157/157 [==============================] - 0s 1ms/step - loss: 0.0093\n",
            "Epoch 28/50\n",
            "157/157 [==============================] - 0s 1ms/step - loss: 0.0093\n",
            "Epoch 29/50\n",
            "157/157 [==============================] - 0s 1ms/step - loss: 0.0093\n",
            "Epoch 30/50\n",
            "157/157 [==============================] - 0s 1ms/step - loss: 0.0093\n",
            "Epoch 31/50\n",
            "157/157 [==============================] - 0s 1ms/step - loss: 0.0093\n",
            "Epoch 32/50\n",
            "157/157 [==============================] - 0s 1ms/step - loss: 0.0093\n",
            "Epoch 33/50\n",
            "157/157 [==============================] - 0s 1ms/step - loss: 0.0093\n",
            "Epoch 34/50\n",
            "157/157 [==============================] - 0s 1ms/step - loss: 0.0093\n",
            "Epoch 35/50\n",
            "157/157 [==============================] - 0s 1ms/step - loss: 0.0093\n",
            "Epoch 36/50\n",
            "157/157 [==============================] - 0s 1ms/step - loss: 0.0093\n",
            "Epoch 37/50\n",
            "157/157 [==============================] - 0s 1ms/step - loss: 0.0093\n",
            "Epoch 38/50\n",
            "157/157 [==============================] - 0s 1ms/step - loss: 0.0093\n",
            "Epoch 39/50\n",
            "157/157 [==============================] - 0s 1ms/step - loss: 0.0093\n",
            "Epoch 40/50\n",
            "157/157 [==============================] - 0s 1ms/step - loss: 0.0093\n",
            "Epoch 41/50\n",
            "157/157 [==============================] - 0s 1ms/step - loss: 0.0093\n",
            "Epoch 42/50\n",
            "157/157 [==============================] - 0s 1ms/step - loss: 0.0093\n",
            "Epoch 43/50\n",
            "157/157 [==============================] - 0s 2ms/step - loss: 0.0093\n",
            "Epoch 44/50\n",
            "157/157 [==============================] - 1s 3ms/step - loss: 0.0093\n",
            "Epoch 45/50\n",
            "157/157 [==============================] - 0s 2ms/step - loss: 0.0093\n",
            "Epoch 46/50\n",
            "157/157 [==============================] - 0s 1ms/step - loss: 0.0093\n",
            "Epoch 47/50\n",
            "157/157 [==============================] - 0s 3ms/step - loss: 0.0093\n",
            "Epoch 48/50\n",
            "157/157 [==============================] - 0s 3ms/step - loss: 0.0093\n",
            "Epoch 49/50\n",
            "157/157 [==============================] - 0s 1ms/step - loss: 0.0093\n",
            "Epoch 50/50\n",
            "157/157 [==============================] - 0s 2ms/step - loss: 0.0093\n"
          ]
        }
      ]
    },
    {
      "cell_type": "code",
      "source": [
        "# 5. 학습과정 살펴보기\n",
        "%matplotlib inline\n",
        "import matplotlib.pyplot as plt\n",
        "\n",
        "plt.plot(hist.history['loss'])\n",
        "plt.ylim(0.0, 1.5)\n",
        "plt.ylabel('loss')\n",
        "plt.xlabel('epoch')\n",
        "plt.legend(['train'], loc='upper left')\n",
        "plt.show()"
      ],
      "metadata": {
        "colab": {
          "base_uri": "https://localhost:8080/",
          "height": 279
        },
        "id": "QBKMj5b6o2r5",
        "outputId": "3f1ba364-1473-44e2-cdd1-5a4aa4cd5d7e"
      },
      "execution_count": 113,
      "outputs": [
        {
          "output_type": "display_data",
          "data": {
            "text/plain": [
              "<Figure size 432x288 with 1 Axes>"
            ],
            "image/png": "[encoded data removed]"
          },
          "metadata": {
            "needs_background": "light"
          }
        }
      ]
    },
    {
      "cell_type": "code",
      "source": [
        "loss = model.evaluate(x_test, y_test, batch_size = 32)"
      ],
      "metadata": {
        "colab": {
          "base_uri": "https://localhost:8080/"
        },
        "id": "drUd1dfno7ay",
        "outputId": "e7c746ec-dc67-45d4-bd00-de298e9e3703"
      },
      "execution_count": 114,
      "outputs": [
        {
          "output_type": "stream",
          "name": "stdout",
          "text": [
            "4/4 [==============================] - 0s 5ms/step - loss: 0.0087\n"
          ]
        }
      ]
    },
    {
      "cell_type": "code",
      "source": [
        "loss"
      ],
      "metadata": {
        "colab": {
          "base_uri": "https://localhost:8080/"
        },
        "id": "iOYPdczqo__Y",
        "outputId": "b200dc46-6aa5-4f98-b3dc-c7bcc21415c8"
      },
      "execution_count": 115,
      "outputs": [
        {
          "output_type": "execute_result",
          "data": {
            "text/plain": [
              "0.008661624975502491"
            ]
          },
          "metadata": {},
          "execution_count": 115
        }
      ]
    },
    {
      "cell_type": "code",
      "source": [
        ""
      ],
      "metadata": {
        "id": "XkJuEiWdpBEp"
      },
      "execution_count": null,
      "outputs": []
    },
    {
      "cell_type": "markdown",
      "source": [
        "# 깊은 다층 퍼셉트론 신경망"
      ],
      "metadata": {
        "id": "liT2M66IrR6r"
      }
    },
    {
      "cell_type": "code",
      "source": [
        "# 0. 사용할 패키지 불러오기\n",
        "import numpy as np\n",
        "from keras.models import Sequential\n",
        "from keras.layers import Dense\n",
        "import random"
      ],
      "metadata": {
        "id": "JZbmOTQVrR6r"
      },
      "execution_count": 127,
      "outputs": []
    },
    {
      "cell_type": "code",
      "source": [
        "# 1. 데이터셋 생성하기\n",
        "x_train = np.random.random((10000, 1))\n",
        "y_train = x_train * 2 + np.random.random((10000, 1)) / 3.0\n",
        "x_test = np.random.random((100, 1))\n",
        "y_test = x_test * 2 + np.random.random((100, 1)) / 3.0"
      ],
      "metadata": {
        "id": "wmjJOffPrR6s"
      },
      "execution_count": 128,
      "outputs": []
    },
    {
      "cell_type": "code",
      "source": [
        "# 2. 모델 구성하기\n",
        "model = Sequential()\n",
        "model.add(Dense(64, input_dim=1, activation = 'relu'))\n",
        "model.add(Dense(64, activation = 'relu'))\n",
        "model.add(Dense(1))"
      ],
      "metadata": {
        "id": "TziBbzjGrR6s"
      },
      "execution_count": 130,
      "outputs": []
    },
    {
      "cell_type": "code",
      "source": [
        "model.compile(optimizer = 'rmsprop', loss='mse')"
      ],
      "metadata": {
        "id": "RtUTzCQhrR6s"
      },
      "execution_count": 131,
      "outputs": []
    },
    {
      "cell_type": "code",
      "source": [
        "model.summary()"
      ],
      "metadata": {
        "colab": {
          "base_uri": "https://localhost:8080/"
        },
        "outputId": "00fc0698-6893-4f24-8a84-71c8b6b9e6f8",
        "id": "RcVqTN5crR6s"
      },
      "execution_count": 132,
      "outputs": [
        {
          "output_type": "stream",
          "name": "stdout",
          "text": [
            "Model: \"sequential_9\"\n",
            "_________________________________________________________________\n",
            " Layer (type)                Output Shape              Param #   \n",
            "=================================================================\n",
            " dense_14 (Dense)            (None, 64)                128       \n",
            "                                                                 \n",
            " dense_15 (Dense)            (None, 64)                4160      \n",
            "                                                                 \n",
            " dense_16 (Dense)            (None, 1)                 65        \n",
            "                                                                 \n",
            "=================================================================\n",
            "Total params: 4,353\n",
            "Trainable params: 4,353\n",
            "Non-trainable params: 0\n",
            "_________________________________________________________________\n"
          ]
        }
      ]
    },
    {
      "cell_type": "code",
      "source": [
        "hist = model.fit(x_train, y_train, epochs=50, batch_size = 64)"
      ],
      "metadata": {
        "colab": {
          "base_uri": "https://localhost:8080/"
        },
        "outputId": "6fb5ffe8-7d76-4769-caf6-81e615b02605",
        "id": "WoxGP16GrR6s"
      },
      "execution_count": 133,
      "outputs": [
        {
          "output_type": "stream",
          "name": "stdout",
          "text": [
            "Epoch 1/50\n",
            "157/157 [==============================] - 1s 1ms/step - loss: 0.1220\n",
            "Epoch 2/50\n",
            "157/157 [==============================] - 0s 2ms/step - loss: 0.0100\n",
            "Epoch 3/50\n",
            "157/157 [==============================] - 0s 2ms/step - loss: 0.0100\n",
            "Epoch 4/50\n",
            "157/157 [==============================] - 0s 1ms/step - loss: 0.0100\n",
            "Epoch 5/50\n",
            "157/157 [==============================] - 0s 1ms/step - loss: 0.0100\n",
            "Epoch 6/50\n",
            "157/157 [==============================] - 0s 1ms/step - loss: 0.0098\n",
            "Epoch 7/50\n",
            "157/157 [==============================] - 0s 1ms/step - loss: 0.0100\n",
            "Epoch 8/50\n",
            "157/157 [==============================] - 0s 2ms/step - loss: 0.0100\n",
            "Epoch 9/50\n",
            "157/157 [==============================] - 0s 1ms/step - loss: 0.0100\n",
            "Epoch 10/50\n",
            "157/157 [==============================] - 0s 1ms/step - loss: 0.0100\n",
            "Epoch 11/50\n",
            "157/157 [==============================] - 0s 1ms/step - loss: 0.0099\n",
            "Epoch 12/50\n",
            "157/157 [==============================] - 0s 1ms/step - loss: 0.0100\n",
            "Epoch 13/50\n",
            "157/157 [==============================] - 0s 1ms/step - loss: 0.0099\n",
            "Epoch 14/50\n",
            "157/157 [==============================] - 0s 1ms/step - loss: 0.0099\n",
            "Epoch 15/50\n",
            "157/157 [==============================] - 0s 2ms/step - loss: 0.0099\n",
            "Epoch 16/50\n",
            "157/157 [==============================] - 0s 1ms/step - loss: 0.0100\n",
            "Epoch 17/50\n",
            "157/157 [==============================] - 0s 1ms/step - loss: 0.0099\n",
            "Epoch 18/50\n",
            "157/157 [==============================] - 0s 1ms/step - loss: 0.0099\n",
            "Epoch 19/50\n",
            "157/157 [==============================] - 0s 1ms/step - loss: 0.0099\n",
            "Epoch 20/50\n",
            "157/157 [==============================] - 0s 2ms/step - loss: 0.0098\n",
            "Epoch 21/50\n",
            "157/157 [==============================] - 0s 2ms/step - loss: 0.0098\n",
            "Epoch 22/50\n",
            "157/157 [==============================] - 0s 2ms/step - loss: 0.0099\n",
            "Epoch 23/50\n",
            "157/157 [==============================] - 0s 2ms/step - loss: 0.0099\n",
            "Epoch 24/50\n",
            "157/157 [==============================] - 0s 2ms/step - loss: 0.0098\n",
            "Epoch 25/50\n",
            "157/157 [==============================] - 0s 2ms/step - loss: 0.0099\n",
            "Epoch 26/50\n",
            "157/157 [==============================] - 0s 1ms/step - loss: 0.0099\n",
            "Epoch 27/50\n",
            "157/157 [==============================] - 0s 2ms/step - loss: 0.0100\n",
            "Epoch 28/50\n",
            "157/157 [==============================] - 0s 1ms/step - loss: 0.0098\n",
            "Epoch 29/50\n",
            "157/157 [==============================] - 0s 1ms/step - loss: 0.0099\n",
            "Epoch 30/50\n",
            "157/157 [==============================] - 0s 1ms/step - loss: 0.0098\n",
            "Epoch 31/50\n",
            "157/157 [==============================] - 0s 1ms/step - loss: 0.0098\n",
            "Epoch 32/50\n",
            "157/157 [==============================] - 0s 1ms/step - loss: 0.0098\n",
            "Epoch 33/50\n",
            "157/157 [==============================] - 0s 1ms/step - loss: 0.0098\n",
            "Epoch 34/50\n",
            "157/157 [==============================] - 0s 2ms/step - loss: 0.0098\n",
            "Epoch 35/50\n",
            "157/157 [==============================] - 0s 1ms/step - loss: 0.0098\n",
            "Epoch 36/50\n",
            "157/157 [==============================] - 0s 1ms/step - loss: 0.0098\n",
            "Epoch 37/50\n",
            "157/157 [==============================] - 0s 2ms/step - loss: 0.0097\n",
            "Epoch 38/50\n",
            "157/157 [==============================] - 0s 1ms/step - loss: 0.0098\n",
            "Epoch 39/50\n",
            "157/157 [==============================] - 0s 1ms/step - loss: 0.0099\n",
            "Epoch 40/50\n",
            "157/157 [==============================] - 0s 1ms/step - loss: 0.0098\n",
            "Epoch 41/50\n",
            "157/157 [==============================] - 0s 1ms/step - loss: 0.0098\n",
            "Epoch 42/50\n",
            "157/157 [==============================] - 0s 1ms/step - loss: 0.0098\n",
            "Epoch 43/50\n",
            "157/157 [==============================] - 0s 1ms/step - loss: 0.0098\n",
            "Epoch 44/50\n",
            "157/157 [==============================] - 0s 1ms/step - loss: 0.0097\n",
            "Epoch 45/50\n",
            "157/157 [==============================] - 0s 1ms/step - loss: 0.0098\n",
            "Epoch 46/50\n",
            "157/157 [==============================] - 0s 1ms/step - loss: 0.0097\n",
            "Epoch 47/50\n",
            "157/157 [==============================] - 0s 1ms/step - loss: 0.0097\n",
            "Epoch 48/50\n",
            "157/157 [==============================] - 0s 2ms/step - loss: 0.0098\n",
            "Epoch 49/50\n",
            "157/157 [==============================] - 0s 2ms/step - loss: 0.0098\n",
            "Epoch 50/50\n",
            "157/157 [==============================] - 0s 2ms/step - loss: 0.0098\n"
          ]
        }
      ]
    },
    {
      "cell_type": "code",
      "source": [
        "# 5. 학습과정 살펴보기\n",
        "%matplotlib inline\n",
        "import matplotlib.pyplot as plt\n",
        "\n",
        "plt.plot(hist.history['loss'])\n",
        "plt.ylim(0.0, 1.5)\n",
        "plt.ylabel('loss')\n",
        "plt.xlabel('epoch')\n",
        "plt.legend(['train'], loc='upper left')\n",
        "plt.show()"
      ],
      "metadata": {
        "colab": {
          "base_uri": "https://localhost:8080/",
          "height": 279
        },
        "outputId": "16169468-1b4f-4d64-b8f2-1e2af34b7ef8",
        "id": "EueaFxyGrR6s"
      },
      "execution_count": 134,
      "outputs": [
        {
          "output_type": "display_data",
          "data": {
            "text/plain": [
              "<Figure size 432x288 with 1 Axes>"
            ],
            "image/png": "[encoded data removed]"
          },
          "metadata": {
            "needs_background": "light"
          }
        }
      ]
    },
    {
      "cell_type": "code",
      "source": [
        "loss = model.evaluate(x_test, y_test, batch_size = 32)"
      ],
      "metadata": {
        "colab": {
          "base_uri": "https://localhost:8080/"
        },
        "outputId": "4f924c87-fb38-47fa-a5a6-79022ba7c663",
        "id": "uaOl66WprR6t"
      },
      "execution_count": 135,
      "outputs": [
        {
          "output_type": "stream",
          "name": "stdout",
          "text": [
            "4/4 [==============================] - 0s 4ms/step - loss: 0.0101\n"
          ]
        }
      ]
    },
    {
      "cell_type": "code",
      "source": [
        "loss"
      ],
      "metadata": {
        "colab": {
          "base_uri": "https://localhost:8080/"
        },
        "outputId": "ccfe772f-b227-49d5-cbb0-c81f8229d571",
        "id": "_7lkxCR3rR6t"
      },
      "execution_count": 136,
      "outputs": [
        {
          "output_type": "execute_result",
          "data": {
            "text/plain": [
              "0.010145933367311954"
            ]
          },
          "metadata": {},
          "execution_count": 136
        }
      ]
    },
    {
      "cell_type": "code",
      "source": [
        ""
      ],
      "metadata": {
        "id": "WrPPcbetrmcm"
      },
      "execution_count": null,
      "outputs": []
    }
  ]
}